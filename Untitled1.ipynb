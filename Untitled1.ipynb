{
  "nbformat": 4,
  "nbformat_minor": 0,
  "metadata": {
    "colab": {
      "provenance": [],
      "authorship_tag": "ABX9TyM3lip0BaF1+RrpIsV0EydF",
      "include_colab_link": true
    },
    "kernelspec": {
      "name": "python3",
      "display_name": "Python 3"
    },
    "language_info": {
      "name": "python"
    }
  },
  "cells": [
    {
      "cell_type": "markdown",
      "metadata": {
        "id": "view-in-github",
        "colab_type": "text"
      },
      "source": [
        "<a href=\"https://colab.research.google.com/github/ParasK2903/ParasDemoToKashmi/blob/main/Untitled1.ipynb\" target=\"_parent\"><img src=\"https://colab.research.google.com/assets/colab-badge.svg\" alt=\"Open In Colab\"/></a>"
      ]
    },
    {
      "cell_type": "code",
      "execution_count": null,
      "metadata": {
        "colab": {
          "base_uri": "https://localhost:8080/"
        },
        "id": "Q0jv79z6LbNL",
        "outputId": "0cc89ed9-672d-40bc-9f4c-286de56eecb9"
      },
      "outputs": [
        {
          "output_type": "execute_result",
          "data": {
            "text/plain": [
              "{'t': 8,\n",
              " 'h': 3,\n",
              " 'e': 5,\n",
              " ' ': 11,\n",
              " 'f': 2,\n",
              " 'i': 4,\n",
              " 'r': 3,\n",
              " 's': 3,\n",
              " 'a': 3,\n",
              " 'n': 6,\n",
              " 'd': 1,\n",
              " 'o': 3,\n",
              " 'l': 1,\n",
              " 'y': 1,\n",
              " 'g': 2,\n",
              " 'u': 2,\n",
              " 'm': 1,\n",
              " 'c': 1,\n",
              " '.': 1}"
            ]
          },
          "metadata": {},
          "execution_count": 46
        }
      ],
      "source": [
        "def dict_freq(str1):\n",
        "    dict1 = {}\n",
        "    # iterating over the string\n",
        "    for i in str1:\n",
        "        keys = dict1.keys()\n",
        "        if i in keys:\n",
        "            dict1[i] += 1\n",
        "        else:\n",
        "            dict1[i] = 1\n",
        "    return dict1\n",
        "\n",
        "result\n"
      ]
    },
    {
      "cell_type": "code",
      "source": [
        "result\n",
        "for key, value in result.items():\n",
        "  y=[f\"{key}, {value}\"]\n",
        "print(y)"
      ],
      "metadata": {
        "colab": {
          "base_uri": "https://localhost:8080/"
        },
        "id": "zfq9nMR1NCMp",
        "outputId": "fa2e84f1-ebec-46da-aee0-45340a1b6bc1"
      },
      "execution_count": null,
      "outputs": [
        {
          "output_type": "stream",
          "name": "stdout",
          "text": [
            "['., 1']\n"
          ]
        }
      ]
    },
    {
      "cell_type": "code",
      "source": [
        "type(y)"
      ],
      "metadata": {
        "colab": {
          "base_uri": "https://localhost:8080/"
        },
        "id": "21qzEtZdNAWx",
        "outputId": "b6483b11-0f44-4f61-d826-9728deed9ed7"
      },
      "execution_count": null,
      "outputs": [
        {
          "output_type": "execute_result",
          "data": {
            "text/plain": [
              "list"
            ]
          },
          "metadata": {},
          "execution_count": 45
        }
      ]
    },
    {
      "cell_type": "code",
      "source": [
        "#Ques: Given a dictionary, find the sum of values of every key in the dictionary.\n",
        "keys = input().split(\" \")\n",
        "values =input().split(\" \")\n",
        "\n",
        "values = [int(val) for val in values]\n",
        "\n",
        "dict1 = dict(zip(keys,values))\n",
        "\n",
        "\n",
        "def returnSum(dic):\n",
        "  sum=0\n",
        "  for i in dic:       # select the key in dictionary\n",
        "    val = dic[i]\n",
        "    print(val)      # assign the value of key to value\n",
        "    sum = sum+val     # increase the value\n",
        "  return sum\n",
        "\n",
        "returnSum(dict1)\n",
        "\n",
        "#print(dic3)"
      ],
      "metadata": {
        "colab": {
          "base_uri": "https://localhost:8080/"
        },
        "id": "iZcjKLeEPeeS",
        "outputId": "3bdf6906-3626-4f18-9dc5-bf47f1697882"
      },
      "execution_count": null,
      "outputs": [
        {
          "output_type": "stream",
          "name": "stdout",
          "text": [
            "a b c\n",
            "10 20 30\n",
            "10\n",
            "20\n",
            "30\n"
          ]
        },
        {
          "output_type": "execute_result",
          "data": {
            "text/plain": [
              "60"
            ]
          },
          "metadata": {},
          "execution_count": 88
        }
      ]
    },
    {
      "cell_type": "code",
      "source": [
        "dic3"
      ],
      "metadata": {
        "id": "q21gZjb-WfcS",
        "colab": {
          "base_uri": "https://localhost:8080/"
        },
        "outputId": "81971982-354e-41d8-8096-9a150f808f06"
      },
      "execution_count": null,
      "outputs": [
        {
          "output_type": "execute_result",
          "data": {
            "text/plain": [
              "{'a': 10}"
            ]
          },
          "metadata": {},
          "execution_count": 89
        }
      ]
    },
    {
      "cell_type": "code",
      "source": [
        "type(dic3)"
      ],
      "metadata": {
        "colab": {
          "base_uri": "https://localhost:8080/"
        },
        "id": "cIsweLdcepEI",
        "outputId": "5a553ec5-8a1b-4bc7-c209-b484ad699551"
      },
      "execution_count": null,
      "outputs": [
        {
          "output_type": "execute_result",
          "data": {
            "text/plain": [
              "dict"
            ]
          },
          "metadata": {},
          "execution_count": 77
        }
      ]
    },
    {
      "cell_type": "code",
      "source": [
        "dic3.keys()"
      ],
      "metadata": {
        "colab": {
          "base_uri": "https://localhost:8080/"
        },
        "id": "hGM1P3Soev6f",
        "outputId": "72f8c5c3-49c3-4392-957d-d03c0b3c2e5f"
      },
      "execution_count": null,
      "outputs": [
        {
          "output_type": "execute_result",
          "data": {
            "text/plain": [
              "dict_keys(['a, b, c'])"
            ]
          },
          "metadata": {},
          "execution_count": 68
        }
      ]
    },
    {
      "cell_type": "code",
      "source": [
        "dic3.values()"
      ],
      "metadata": {
        "colab": {
          "base_uri": "https://localhost:8080/"
        },
        "id": "lNwVu_VUe4XY",
        "outputId": "b16da764-cf76-4bfe-eb5f-2ff41e868c72"
      },
      "execution_count": null,
      "outputs": [
        {
          "output_type": "execute_result",
          "data": {
            "text/plain": [
              "dict_values(['1, 2, 3'])"
            ]
          },
          "metadata": {},
          "execution_count": 69
        }
      ]
    },
    {
      "cell_type": "code",
      "source": [
        "keys = (\"a b c\").split(\" \")\n",
        "values =(\"10 20 30\").split(\" \")\n",
        "\n",
        "values = [int(val) for val in values]\n",
        "\n",
        "dict1 = dict(zip(keys,values))\n",
        "\n",
        "\n",
        "def returnSum(dic):\n",
        "  sum=0\n",
        "  for i in dic:       # select the key in dictionary\n",
        "    val = dic[i]\n",
        "    print(val)      # assign the value of key to value\n",
        "    sum = sum+val     # increase the value\n",
        "  return sum\n",
        "\n",
        "returnSum(dict1)\n"
      ],
      "metadata": {
        "colab": {
          "base_uri": "https://localhost:8080/"
        },
        "id": "dxPQLUlpe-DY",
        "outputId": "56412037-f37a-4a0e-b8ae-b455b74db4db"
      },
      "execution_count": null,
      "outputs": [
        {
          "output_type": "stream",
          "name": "stdout",
          "text": [
            "10\n",
            "20\n",
            "30\n"
          ]
        },
        {
          "output_type": "execute_result",
          "data": {
            "text/plain": [
              "60"
            ]
          },
          "metadata": {},
          "execution_count": 92
        }
      ]
    },
    {
      "cell_type": "code",
      "source": [
        "keys = (\"a b c\").split(\" \")\n",
        "values =(\"25 25 50\").split(\" \")\n",
        "\n",
        "values = [int(val) for val in values]\n",
        "\n",
        "dict1 = dict(zip(keys,values))\n",
        "\n",
        "\n",
        "def returnSum(dic):\n",
        "  sum=0\n",
        "  for i in dic:       # select the key in dictionary\n",
        "    val = dic[i]      # assign the value of key to value\n",
        "    sum = sum+val     # increase the value\n",
        "  return sum\n",
        "\n",
        "returnSum(dict1)"
      ],
      "metadata": {
        "colab": {
          "base_uri": "https://localhost:8080/"
        },
        "id": "ewM7W0GTr7Us",
        "outputId": "141154de-dc56-4c76-e06e-3b61c375c3c5"
      },
      "execution_count": null,
      "outputs": [
        {
          "output_type": "execute_result",
          "data": {
            "text/plain": [
              "100"
            ]
          },
          "metadata": {},
          "execution_count": 93
        }
      ]
    },
    {
      "cell_type": "code",
      "source": [
        "dict = {5: 'a', 10: 'b', 15: 'c'}\n",
        "#type(dict1)\n",
        "print(dict[0])"
      ],
      "metadata": {
        "colab": {
          "base_uri": "https://localhost:8080/",
          "height": 176
        },
        "id": "iLqpMXaNs9Ty",
        "outputId": "82f27b44-5f9c-49d4-9437-f412eb024c55"
      },
      "execution_count": null,
      "outputs": [
        {
          "output_type": "error",
          "ename": "KeyError",
          "evalue": "0",
          "traceback": [
            "\u001b[0;31m---------------------------------------------------------------------------\u001b[0m",
            "\u001b[0;31mKeyError\u001b[0m                                  Traceback (most recent call last)",
            "\u001b[0;32m<ipython-input-104-7fdc91f6de90>\u001b[0m in \u001b[0;36m<cell line: 3>\u001b[0;34m()\u001b[0m\n\u001b[1;32m      1\u001b[0m \u001b[0mdict\u001b[0m \u001b[0;34m=\u001b[0m \u001b[0;34m{\u001b[0m\u001b[0;36m5\u001b[0m\u001b[0;34m:\u001b[0m \u001b[0;34m'a'\u001b[0m\u001b[0;34m,\u001b[0m \u001b[0;36m10\u001b[0m\u001b[0;34m:\u001b[0m \u001b[0;34m'b'\u001b[0m\u001b[0;34m,\u001b[0m \u001b[0;36m15\u001b[0m\u001b[0;34m:\u001b[0m \u001b[0;34m'c'\u001b[0m\u001b[0;34m}\u001b[0m\u001b[0;34m\u001b[0m\u001b[0;34m\u001b[0m\u001b[0m\n\u001b[1;32m      2\u001b[0m \u001b[0;31m#type(dict1)\u001b[0m\u001b[0;34m\u001b[0m\u001b[0;34m\u001b[0m\u001b[0m\n\u001b[0;32m----> 3\u001b[0;31m \u001b[0mprint\u001b[0m\u001b[0;34m(\u001b[0m\u001b[0mdict\u001b[0m\u001b[0;34m[\u001b[0m\u001b[0;36m0\u001b[0m\u001b[0;34m]\u001b[0m\u001b[0;34m)\u001b[0m\u001b[0;34m\u001b[0m\u001b[0;34m\u001b[0m\u001b[0m\n\u001b[0m",
            "\u001b[0;31mKeyError\u001b[0m: 0"
          ]
        }
      ]
    },
    {
      "cell_type": "code",
      "source": [
        "print(dict.get(5))"
      ],
      "metadata": {
        "colab": {
          "base_uri": "https://localhost:8080/"
        },
        "id": "oO1Bn48hvGwZ",
        "outputId": "df1822f1-f052-4a75-b3f1-ca9973f721f3"
      },
      "execution_count": null,
      "outputs": [
        {
          "output_type": "stream",
          "name": "stdout",
          "text": [
            "a\n"
          ]
        }
      ]
    },
    {
      "cell_type": "code",
      "source": [
        "abc = {}\n",
        "abc[1] = 1\n",
        "#abc['1'] = 2\n",
        "abc[1] = abc[1] + 1"
      ],
      "metadata": {
        "id": "x4U9Su4vwBPg"
      },
      "execution_count": null,
      "outputs": []
    },
    {
      "cell_type": "code",
      "source": [
        "abc"
      ],
      "metadata": {
        "colab": {
          "base_uri": "https://localhost:8080/"
        },
        "id": "rDNx_KVMwq9s",
        "outputId": "788088a9-a892-4028-aae4-dc78e70dbe66"
      },
      "execution_count": null,
      "outputs": [
        {
          "output_type": "execute_result",
          "data": {
            "text/plain": [
              "{1: 2}"
            ]
          },
          "metadata": {},
          "execution_count": 10
        }
      ]
    },
    {
      "cell_type": "code",
      "source": [
        "a = {}\n",
        "\n",
        "a[\"s1\"] = 2\n",
        "a[\"s2\"] = 3"
      ],
      "metadata": {
        "id": "YbFdzhc-ws3D"
      },
      "execution_count": null,
      "outputs": []
    },
    {
      "cell_type": "code",
      "source": [
        "a"
      ],
      "metadata": {
        "colab": {
          "base_uri": "https://localhost:8080/"
        },
        "id": "PmYmjoLxO0cW",
        "outputId": "bd94fbcd-264e-4b1e-8a57-b28dfe33ee11"
      },
      "execution_count": null,
      "outputs": [
        {
          "output_type": "execute_result",
          "data": {
            "text/plain": [
              "{'s1': 2, 's2': 3}"
            ]
          },
          "metadata": {},
          "execution_count": 14
        }
      ]
    },
    {
      "cell_type": "code",
      "source": [
        "list1 = [\"a\",\"b\",\"c\"]\n",
        "list2 = [4,3,6]\n",
        "\n",
        "y = dict(zip(list1,list2))\n",
        "#print(y)\n",
        "\n",
        "\n",
        "for i in y:\n",
        "  result={}\n",
        "  if i not in result or y[i] < result[i]:\n",
        "    result[i] = y[i]\n",
        "print(result)\n",
        "\n",
        "\n",
        "\n"
      ],
      "metadata": {
        "colab": {
          "base_uri": "https://localhost:8080/"
        },
        "id": "Zgn4W2qdO1SH",
        "outputId": "5f80e2a2-d0bf-4aee-c3df-26dda9ae3481"
      },
      "execution_count": null,
      "outputs": [
        {
          "output_type": "stream",
          "name": "stdout",
          "text": [
            "{'c': 6}\n"
          ]
        }
      ]
    },
    {
      "cell_type": "code",
      "source": [
        "str1 = \"aaaadfhgajshfdmmmssssmmm\"\n",
        "def count_char(string):\n",
        "  dict1 = {}\n",
        "  for i in string:\n",
        "    if i not in dict1:\n",
        "      dict1[i]=1\n",
        "    else:\n",
        "      dict1[i] = dict1[i]+1\n",
        "\n",
        "  for i in dict1:\n",
        "    if dict1[i]+1<dict1[i]:\n",
        "      temp_var = i\n",
        "\n",
        "\n",
        "\n",
        "\n",
        "\n",
        "count_char(str1)\n"
      ],
      "metadata": {
        "colab": {
          "base_uri": "https://localhost:8080/",
          "height": 297
        },
        "id": "g1o2FMCqRgnm",
        "outputId": "4d0689da-9b92-4a5a-b3bd-dfbbd908ed16"
      },
      "execution_count": null,
      "outputs": [
        {
          "output_type": "error",
          "ename": "UnboundLocalError",
          "evalue": "local variable 'temp_var' referenced before assignment",
          "traceback": [
            "\u001b[0;31m---------------------------------------------------------------------------\u001b[0m",
            "\u001b[0;31mUnboundLocalError\u001b[0m                         Traceback (most recent call last)",
            "\u001b[0;32m<ipython-input-36-c46ac6cd3e24>\u001b[0m in \u001b[0;36m<cell line: 18>\u001b[0;34m()\u001b[0m\n\u001b[1;32m     16\u001b[0m \u001b[0;34m\u001b[0m\u001b[0m\n\u001b[1;32m     17\u001b[0m \u001b[0;34m\u001b[0m\u001b[0m\n\u001b[0;32m---> 18\u001b[0;31m \u001b[0mcount_char\u001b[0m\u001b[0;34m(\u001b[0m\u001b[0mstr1\u001b[0m\u001b[0;34m)\u001b[0m\u001b[0;34m\u001b[0m\u001b[0;34m\u001b[0m\u001b[0m\n\u001b[0m",
            "\u001b[0;32m<ipython-input-36-c46ac6cd3e24>\u001b[0m in \u001b[0;36mcount_char\u001b[0;34m(string)\u001b[0m\n\u001b[1;32m     11\u001b[0m     \u001b[0;32mif\u001b[0m \u001b[0mdict1\u001b[0m\u001b[0;34m[\u001b[0m\u001b[0mi\u001b[0m\u001b[0;34m]\u001b[0m\u001b[0;34m+\u001b[0m\u001b[0;36m1\u001b[0m\u001b[0;34m<\u001b[0m\u001b[0mdict1\u001b[0m\u001b[0;34m[\u001b[0m\u001b[0mi\u001b[0m\u001b[0;34m]\u001b[0m\u001b[0;34m:\u001b[0m\u001b[0;34m\u001b[0m\u001b[0;34m\u001b[0m\u001b[0m\n\u001b[1;32m     12\u001b[0m       \u001b[0mtemp_var\u001b[0m \u001b[0;34m=\u001b[0m \u001b[0mi\u001b[0m\u001b[0;34m\u001b[0m\u001b[0;34m\u001b[0m\u001b[0m\n\u001b[0;32m---> 13\u001b[0;31m   \u001b[0;32mreturn\u001b[0m \u001b[0mtemp_var\u001b[0m\u001b[0;34m\u001b[0m\u001b[0;34m\u001b[0m\u001b[0m\n\u001b[0m\u001b[1;32m     14\u001b[0m \u001b[0;34m\u001b[0m\u001b[0m\n\u001b[1;32m     15\u001b[0m \u001b[0;34m\u001b[0m\u001b[0m\n",
            "\u001b[0;31mUnboundLocalError\u001b[0m: local variable 'temp_var' referenced before assignment"
          ]
        }
      ]
    },
    {
      "cell_type": "code",
      "source": [
        "print(temp_var)\n"
      ],
      "metadata": {
        "colab": {
          "base_uri": "https://localhost:8080/",
          "height": 141
        },
        "id": "aEYs1bL9U_dO",
        "outputId": "e96302d8-580e-4a8b-e2cc-04a37c8357c1"
      },
      "execution_count": null,
      "outputs": [
        {
          "output_type": "error",
          "ename": "NameError",
          "evalue": "name 'temp_var' is not defined",
          "traceback": [
            "\u001b[0;31m---------------------------------------------------------------------------\u001b[0m",
            "\u001b[0;31mNameError\u001b[0m                                 Traceback (most recent call last)",
            "\u001b[0;32m<ipython-input-32-79089228e20b>\u001b[0m in \u001b[0;36m<cell line: 1>\u001b[0;34m()\u001b[0m\n\u001b[0;32m----> 1\u001b[0;31m \u001b[0mprint\u001b[0m\u001b[0;34m(\u001b[0m\u001b[0mtemp_var\u001b[0m\u001b[0;34m)\u001b[0m\u001b[0;34m\u001b[0m\u001b[0;34m\u001b[0m\u001b[0m\n\u001b[0m",
            "\u001b[0;31mNameError\u001b[0m: name 'temp_var' is not defined"
          ]
        }
      ]
    },
    {
      "cell_type": "code",
      "source": [
        "b = (10, 8, 5, 2, 10, 15, 10, 8, 5, 8, 8, 2)\n"
      ],
      "metadata": {
        "id": "uSNj11LGYBIb"
      },
      "execution_count": null,
      "outputs": []
    },
    {
      "cell_type": "code",
      "source": [
        "a[1:4]"
      ],
      "metadata": {
        "colab": {
          "base_uri": "https://localhost:8080/"
        },
        "id": "8go5d4n28yUG",
        "outputId": "0b93b3a3-6a6f-4d9a-8d43-720da2bdac10"
      },
      "execution_count": null,
      "outputs": [
        {
          "output_type": "execute_result",
          "data": {
            "text/plain": [
              "(8, 5, 2)"
            ]
          },
          "metadata": {},
          "execution_count": 6
        }
      ]
    },
    {
      "cell_type": "code",
      "source": [
        "even = []\n",
        "odd = []\n",
        "a = list(b)\n",
        "for i in a:\n",
        "  if i%2==0:\n",
        "    even.append(i)\n",
        "  else:\n",
        "    odd.append(i)\n",
        "\n",
        "print(even, odd)\n",
        "\n",
        "\n"
      ],
      "metadata": {
        "colab": {
          "base_uri": "https://localhost:8080/"
        },
        "id": "WduXOflj86cb",
        "outputId": "5cda5802-d8f6-49a7-ba0a-183ad15b299a"
      },
      "execution_count": null,
      "outputs": [
        {
          "output_type": "stream",
          "name": "stdout",
          "text": [
            "[10, 8, 2, 10, 10, 8, 8, 8, 2] [5, 15, 5]\n"
          ]
        }
      ]
    },
    {
      "cell_type": "code",
      "source": [
        "a\n"
      ],
      "metadata": {
        "colab": {
          "base_uri": "https://localhost:8080/"
        },
        "id": "W-RFNX_E9Qsr",
        "outputId": "9fb3b59c-6b8b-414e-9fcc-1e2c682939c7"
      },
      "execution_count": null,
      "outputs": [
        {
          "output_type": "execute_result",
          "data": {
            "text/plain": [
              "[10, 8, 5, 2, 10, 15, 10, 8, 5, 8, 8, 2]"
            ]
          },
          "metadata": {},
          "execution_count": 23
        }
      ]
    },
    {
      "cell_type": "code",
      "source": [
        "tuple(a[0::2])"
      ],
      "metadata": {
        "colab": {
          "base_uri": "https://localhost:8080/"
        },
        "id": "CSP1FhCl-9-2",
        "outputId": "42085f8a-dc17-43c4-fe80-cfed9ad818ad"
      },
      "execution_count": null,
      "outputs": [
        {
          "output_type": "execute_result",
          "data": {
            "text/plain": [
              "(10, 5, 10, 10, 5, 8)"
            ]
          },
          "metadata": {},
          "execution_count": 26
        }
      ]
    },
    {
      "cell_type": "code",
      "source": [
        "a[1::2]"
      ],
      "metadata": {
        "colab": {
          "base_uri": "https://localhost:8080/"
        },
        "id": "OkQKVb7f_b51",
        "outputId": "218e4914-508a-4cc7-94e1-03fc89da2e55"
      },
      "execution_count": null,
      "outputs": [
        {
          "output_type": "execute_result",
          "data": {
            "text/plain": [
              "[8, 2, 15, 8, 8, 2]"
            ]
          },
          "metadata": {},
          "execution_count": 25
        }
      ]
    },
    {
      "cell_type": "code",
      "source": [
        "def ev_odd_tuple(raw):\n",
        "  even = tuple(raw[0::2])\n",
        "  odd = tuple (raw[1::2])\n",
        "  print(\"even is\"f\"{even}\" \" and odd is \" f\"{odd} \")\n",
        "\n",
        "\n",
        "ev_odd_tuple(b)"
      ],
      "metadata": {
        "colab": {
          "base_uri": "https://localhost:8080/"
        },
        "id": "gum2WVJ2_fHi",
        "outputId": "7761407f-bce4-48c4-841f-8bd9b07f7c13"
      },
      "execution_count": null,
      "outputs": [
        {
          "output_type": "stream",
          "name": "stdout",
          "text": [
            "even is(10, 5, 10, 10, 5, 8) and odd is (8, 2, 15, 8, 8, 2) \n"
          ]
        }
      ]
    },
    {
      "cell_type": "code",
      "source": [
        "a = (10, 8, 5, 2, 10, 15, 10, 8, 5, 8, 8, 2)\n",
        "def odd_even_split_tuple(tup):\n",
        "  Even = tuple(tup[0::2])\n",
        "  Odd = tuple (tup[1::2])\n",
        "  print(\"Even is\"f\"{Even}\" \" and Odd is \" f\"{Odd} \")\n",
        "\n",
        "odd_even_split_tuple(a)\n"
      ],
      "metadata": {
        "colab": {
          "base_uri": "https://localhost:8080/"
        },
        "id": "QA7Ko_E9_rEG",
        "outputId": "0e3e4bbd-39a2-495e-8cbc-3292a4b45852"
      },
      "execution_count": null,
      "outputs": [
        {
          "output_type": "stream",
          "name": "stdout",
          "text": [
            "Even is(10, 5, 10, 10, 5, 8) and Odd is (8, 2, 15, 8, 8, 2) \n"
          ]
        }
      ]
    },
    {
      "cell_type": "code",
      "source": [
        "a = (10, 8, 5, 2, 10, 15, 10, 8, 5, 8, 8, 2)\n",
        "def odd_even_split_tuple(tup):\n",
        "  Even = tuple(tup[0::2])\n",
        "  Odd = tuple (tup[1::2])\n",
        "  print(\"Odd: \" f\"{Odd}\")\n",
        "  print(\"Even: \" f\"{Even} \")\n",
        "\n",
        "odd_even_split_tuple(a)\n"
      ],
      "metadata": {
        "colab": {
          "base_uri": "https://localhost:8080/"
        },
        "id": "5IUmunkJK0Em",
        "outputId": "7da22559-c62a-4565-fc6e-8b140bb647ab"
      },
      "execution_count": null,
      "outputs": [
        {
          "output_type": "stream",
          "name": "stdout",
          "text": [
            "Odd: (8, 2, 15, 8, 8, 2)\n",
            "Even: (10, 5, 10, 10, 5, 8) \n"
          ]
        }
      ]
    },
    {
      "cell_type": "code",
      "source": [
        "a = 5"
      ],
      "metadata": {
        "id": "vaqLm7D4LZEF"
      },
      "execution_count": null,
      "outputs": []
    },
    {
      "cell_type": "code",
      "source": [
        "class person:\n",
        "  def __init__(self, name, age):\n",
        "    self.ParasName = name\n",
        "    self.ParasAge = age\n",
        "\n",
        "p1 = person(\"Paras\", 33)\n",
        "\n",
        "print(p1.ParasName)\n",
        "print(p1.ParasAge)\n"
      ],
      "metadata": {
        "colab": {
          "base_uri": "https://localhost:8080/"
        },
        "id": "SUlRrgJWw32Q",
        "outputId": "3eb4f733-6e81-408c-d0fa-6025fefbb41f"
      },
      "execution_count": null,
      "outputs": [
        {
          "output_type": "stream",
          "name": "stdout",
          "text": [
            "Paras\n",
            "33\n"
          ]
        }
      ]
    },
    {
      "cell_type": "code",
      "source": [
        "print(p1.)"
      ],
      "metadata": {
        "colab": {
          "base_uri": "https://localhost:8080/",
          "height": 106
        },
        "id": "bhchs3I10Ifl",
        "outputId": "d541e9cb-fa96-41a7-e8c7-2aefc188d4cc"
      },
      "execution_count": null,
      "outputs": [
        {
          "output_type": "error",
          "ename": "SyntaxError",
          "evalue": "invalid syntax (<ipython-input-12-6edd30247e7d>, line 1)",
          "traceback": [
            "\u001b[0;36m  File \u001b[0;32m\"<ipython-input-12-6edd30247e7d>\"\u001b[0;36m, line \u001b[0;32m1\u001b[0m\n\u001b[0;31m    print(p1.)\u001b[0m\n\u001b[0m             ^\u001b[0m\n\u001b[0;31mSyntaxError\u001b[0m\u001b[0;31m:\u001b[0m invalid syntax\n"
          ]
        }
      ]
    },
    {
      "cell_type": "code",
      "source": [
        "class students:\n",
        "  def __init__(self, Phymarks, Chemarks, attendance):\n",
        "    self.Physics = Phymarks\n",
        "    self.Chemistry = Chemarks\n",
        "    self.StudentAttendance = attendance\n",
        "    self.Total_marks = Phymarks+Chemarks\n",
        "\n",
        "sixth = students(32,45, 22)\n",
        "\n"
      ],
      "metadata": {
        "id": "DSTJLHtV5j6N"
      },
      "execution_count": null,
      "outputs": []
    },
    {
      "cell_type": "code",
      "source": [
        "sixth.Total_marks"
      ],
      "metadata": {
        "colab": {
          "base_uri": "https://localhost:8080/"
        },
        "id": "rKNNBPu56YGg",
        "outputId": "b08ac62b-c380-42c4-cd6d-193bd4255204"
      },
      "execution_count": null,
      "outputs": [
        {
          "output_type": "execute_result",
          "data": {
            "text/plain": [
              "77"
            ]
          },
          "metadata": {},
          "execution_count": 31
        }
      ]
    },
    {
      "cell_type": "code",
      "source": [
        "sixth.Physics"
      ],
      "metadata": {
        "colab": {
          "base_uri": "https://localhost:8080/"
        },
        "id": "6s4ExvpO97q4",
        "outputId": "d6be8e65-0bbc-4701-a6cb-fbeb1b161e5d"
      },
      "execution_count": null,
      "outputs": [
        {
          "output_type": "execute_result",
          "data": {
            "text/plain": [
              "32"
            ]
          },
          "metadata": {},
          "execution_count": 32
        }
      ]
    },
    {
      "cell_type": "code",
      "source": [
        "class students:\n",
        "  def __init__(self, Phymarks, Chemarks, attendance):\n",
        "    self.Physics = Phymarks\n",
        "    self.Chemistry = Chemarks\n",
        "    self.StudentAttendance = attendance\n",
        "    Total_marks = Phymarks+Chemarks\n",
        "\n",
        "  sixth = students(32,45)\n"
      ],
      "metadata": {
        "colab": {
          "base_uri": "https://localhost:8080/",
          "height": 297
        },
        "id": "SbcdNfq4-NJe",
        "outputId": "2a679761-351e-4360-bc78-de907fb2099e"
      },
      "execution_count": null,
      "outputs": [
        {
          "output_type": "error",
          "ename": "TypeError",
          "evalue": "students.__init__() missing 1 required positional argument: 'attendance'",
          "traceback": [
            "\u001b[0;31m---------------------------------------------------------------------------\u001b[0m",
            "\u001b[0;31mTypeError\u001b[0m                                 Traceback (most recent call last)",
            "\u001b[0;32m<ipython-input-40-6018bbaf9095>\u001b[0m in \u001b[0;36m<cell line: 1>\u001b[0;34m()\u001b[0m\n\u001b[0;32m----> 1\u001b[0;31m \u001b[0;32mclass\u001b[0m \u001b[0mstudents\u001b[0m\u001b[0;34m:\u001b[0m\u001b[0;34m\u001b[0m\u001b[0;34m\u001b[0m\u001b[0m\n\u001b[0m\u001b[1;32m      2\u001b[0m   \u001b[0;32mdef\u001b[0m \u001b[0m__init__\u001b[0m\u001b[0;34m(\u001b[0m\u001b[0mself\u001b[0m\u001b[0;34m,\u001b[0m \u001b[0mPhymarks\u001b[0m\u001b[0;34m,\u001b[0m \u001b[0mChemarks\u001b[0m\u001b[0;34m,\u001b[0m \u001b[0mattendance\u001b[0m\u001b[0;34m)\u001b[0m\u001b[0;34m:\u001b[0m\u001b[0;34m\u001b[0m\u001b[0;34m\u001b[0m\u001b[0m\n\u001b[1;32m      3\u001b[0m     \u001b[0mself\u001b[0m\u001b[0;34m.\u001b[0m\u001b[0mPhysics\u001b[0m \u001b[0;34m=\u001b[0m \u001b[0mPhymarks\u001b[0m\u001b[0;34m\u001b[0m\u001b[0;34m\u001b[0m\u001b[0m\n\u001b[1;32m      4\u001b[0m     \u001b[0mself\u001b[0m\u001b[0;34m.\u001b[0m\u001b[0mChemistry\u001b[0m \u001b[0;34m=\u001b[0m \u001b[0mChemarks\u001b[0m\u001b[0;34m\u001b[0m\u001b[0;34m\u001b[0m\u001b[0m\n\u001b[1;32m      5\u001b[0m     \u001b[0mself\u001b[0m\u001b[0;34m.\u001b[0m\u001b[0mStudentAttendance\u001b[0m \u001b[0;34m=\u001b[0m \u001b[0mattendance\u001b[0m\u001b[0;34m\u001b[0m\u001b[0;34m\u001b[0m\u001b[0m\n",
            "\u001b[0;32m<ipython-input-40-6018bbaf9095>\u001b[0m in \u001b[0;36mstudents\u001b[0;34m()\u001b[0m\n\u001b[1;32m      6\u001b[0m     \u001b[0mTotal_marks\u001b[0m \u001b[0;34m=\u001b[0m \u001b[0mPhymarks\u001b[0m\u001b[0;34m+\u001b[0m\u001b[0mChemarks\u001b[0m\u001b[0;34m\u001b[0m\u001b[0;34m\u001b[0m\u001b[0m\n\u001b[1;32m      7\u001b[0m \u001b[0;34m\u001b[0m\u001b[0m\n\u001b[0;32m----> 8\u001b[0;31m   \u001b[0msixth\u001b[0m \u001b[0;34m=\u001b[0m \u001b[0mstudents\u001b[0m\u001b[0;34m(\u001b[0m\u001b[0;36m32\u001b[0m\u001b[0;34m,\u001b[0m\u001b[0;36m45\u001b[0m\u001b[0;34m)\u001b[0m\u001b[0;34m\u001b[0m\u001b[0;34m\u001b[0m\u001b[0m\n\u001b[0m",
            "\u001b[0;31mTypeError\u001b[0m: students.__init__() missing 1 required positional argument: 'attendance'"
          ]
        }
      ]
    },
    {
      "cell_type": "code",
      "source": [
        "class Person:\n",
        "  def __init__(self, name, age):\n",
        "    self.Name = name\n",
        "    self.Age = age\n",
        "\n",
        "  def __str__(self):\n",
        "    return f\"{self.Name}({self.Age})\"\n",
        "\n",
        "p1 = Person(\"John\", 36)\n",
        "\n",
        "print(p1)\n"
      ],
      "metadata": {
        "colab": {
          "base_uri": "https://localhost:8080/"
        },
        "id": "J8tUc627AaXQ",
        "outputId": "fad7a1e7-02fe-433f-d6f4-eb50642eb005"
      },
      "execution_count": null,
      "outputs": [
        {
          "output_type": "stream",
          "name": "stdout",
          "text": [
            "John(36)\n"
          ]
        }
      ]
    },
    {
      "cell_type": "code",
      "source": [
        "class Student:\n",
        "    def __init__(self, name, age):\n",
        "        # Assigning values to attributes using `self`\n",
        "        self.name = name  # `self.name` is specific to this object\n",
        "        self.age = age    # `self.age` is specific to this object\n",
        "\n",
        "# Create two instances of the class\n",
        "student1 = Student(\"Alice\", 20)\n",
        "student2 = Student(\"Bob\", 22)\n",
        "\n",
        "# Access the attributes\n",
        "print(student1.name, student1.age)  # Outputs: Alice 20\n",
        "print(student2.name, student2.age)  # Outputs: Bob 22"
      ],
      "metadata": {
        "id": "C613aY2bNzmU",
        "colab": {
          "base_uri": "https://localhost:8080/"
        },
        "outputId": "0429e5ae-229b-42f0-93d2-b9ab566a386e"
      },
      "execution_count": null,
      "outputs": [
        {
          "output_type": "stream",
          "name": "stdout",
          "text": [
            "Alice 20\n",
            "Bob 22\n"
          ]
        }
      ]
    },
    {
      "cell_type": "code",
      "source": [
        "class Student:\n",
        "    def __init__(self, name, age):\n",
        "        # Assigning values to attributes using `self`\n",
        "        self.name1 = name  # `self.name` is specific to this object\n",
        "        self.age1 = age    # `self.age` is specific to this object\n",
        "\n",
        "# Create two instances of the class\n",
        "student1 = Student(\"Alice\", 20)\n",
        "student2 = Student(\"Bob\", 22)\n",
        "\n",
        "# Access the attributes\n",
        "print(student1.name1, student1.age1)  # Outputs: Alice 20\n",
        "print(student2.name1, student2.age1)  # Outputs: Bob 22"
      ],
      "metadata": {
        "colab": {
          "base_uri": "https://localhost:8080/"
        },
        "id": "yK96_tOXuQ_Q",
        "outputId": "0253d401-bafe-4e66-b07f-4b2a86ba2f49"
      },
      "execution_count": null,
      "outputs": [
        {
          "output_type": "stream",
          "name": "stdout",
          "text": [
            "Alice 20\n",
            "Bob 22\n"
          ]
        }
      ]
    },
    {
      "cell_type": "code",
      "source": [
        "marks = []\n",
        "for i in range(5):\n",
        "    marks.append(int(input(\"Subject \" + str(i + 1) + \": \")))"
      ],
      "metadata": {
        "colab": {
          "base_uri": "https://localhost:8080/"
        },
        "id": "ArCkE2IIuhAL",
        "outputId": "f60110ab-056b-4135-886f-c065df212975"
      },
      "execution_count": null,
      "outputs": [
        {
          "name": "stdout",
          "output_type": "stream",
          "text": [
            "Subject 1: 12\n",
            "Subject 2: 11\n",
            "Subject 3: 31\n",
            "Subject 4: 13\n",
            "Subject 5: 51\n"
          ]
        }
      ]
    },
    {
      "cell_type": "code",
      "source": [
        "marks"
      ],
      "metadata": {
        "colab": {
          "base_uri": "https://localhost:8080/"
        },
        "id": "0EIRaxZU03hv",
        "outputId": "cebcfc11-bcf0-4f7e-b734-1fc802ca8f15"
      },
      "execution_count": null,
      "outputs": [
        {
          "output_type": "execute_result",
          "data": {
            "text/plain": [
              "[12, 11, 31, 13, 51]"
            ]
          },
          "metadata": {},
          "execution_count": 6
        }
      ]
    },
    {
      "cell_type": "code",
      "source": [
        "y = marks.clear"
      ],
      "metadata": {
        "id": "xtb6kUCs1OEg"
      },
      "execution_count": null,
      "outputs": []
    },
    {
      "cell_type": "code",
      "source": [
        "marks"
      ],
      "metadata": {
        "colab": {
          "base_uri": "https://localhost:8080/"
        },
        "id": "BaMIC-i_1bew",
        "outputId": "8c5ede7e-e99c-4327-e43b-526f461d204d"
      },
      "execution_count": null,
      "outputs": [
        {
          "output_type": "execute_result",
          "data": {
            "text/plain": [
              "[12, 11, 31, 13, 51]"
            ]
          },
          "metadata": {},
          "execution_count": 10
        }
      ]
    },
    {
      "cell_type": "code",
      "source": [
        "y"
      ],
      "metadata": {
        "colab": {
          "base_uri": "https://localhost:8080/"
        },
        "id": "_MOjTClW1qAT",
        "outputId": "365356af-38dd-4432-e143-06807290265e"
      },
      "execution_count": null,
      "outputs": [
        {
          "output_type": "execute_result",
          "data": {
            "text/plain": [
              "<function list.clear()>"
            ]
          },
          "metadata": {},
          "execution_count": 11
        }
      ]
    },
    {
      "cell_type": "code",
      "source": [
        "abcdefghijklmnopqurtuvwxyz\n",
        "ABCDEFGHIJKLMNOPQRSTUVWXYZ\n",
        "1234567890\n",
        "\n",
        "abcdef\n",
        "\n",
        ".[{()\\^$|?*+\n",
        "\n",
        "scaler.com\n",
        "\n",
        "321-555-4321\n",
        "123.555.1234\n",
        "\n",
        "Mr. Varma\n",
        "Mr Anant\n",
        "Ms Nandini\n",
        "Mrs. Singh\n",
        "Mr. T\n"
      ],
      "metadata": {
        "id": "EALyDNWm1tlh",
        "outputId": "fdb7191e-19fd-4b66-ed5f-bbaad6cf0c50",
        "colab": {
          "base_uri": "https://localhost:8080/",
          "height": 370
        }
      },
      "execution_count": null,
      "outputs": [
        {
          "output_type": "error",
          "ename": "SyntaxError",
          "evalue": "invalid syntax (<ipython-input-1-b0018a183f42>, line 7)",
          "traceback": [
            "\u001b[0;36m  File \u001b[0;32m\"<ipython-input-1-b0018a183f42>\"\u001b[0;36m, line \u001b[0;32m7\u001b[0m\n\u001b[0;31m    .[{()\\^$|?*+\u001b[0m\n\u001b[0m    ^\u001b[0m\n\u001b[0;31mSyntaxError\u001b[0m\u001b[0;31m:\u001b[0m invalid syntax\n"
          ]
        }
      ]
    },
    {
      "cell_type": "code",
      "source": [
        "Dave Martin\n",
        "615-555-7164173\n",
        "Main St., Springfield RI 55924\n",
        "davemartin@bogusemail.com\n",
        "\n",
        "Charles Harris\n",
        "800-555-5669969\n",
        "High St., Atlantis VA 34075\n",
        "charlesharris@bogusemail.com\n",
        "\n",
        "Eric Williams\n",
        "560-555-5153806\n",
        "1st St., Faketown AK 86847\n",
        "laurawilliams@bogusemail.com\n"
      ],
      "metadata": {
        "colab": {
          "base_uri": "https://localhost:8080/",
          "height": 106
        },
        "id": "p2j0t7oRgKzG",
        "outputId": "8aacb500-c468-44aa-b107-d704e23ec2a7"
      },
      "execution_count": null,
      "outputs": [
        {
          "output_type": "error",
          "ename": "SyntaxError",
          "evalue": "invalid decimal literal (<ipython-input-1-d7aadf454038>, line 13)",
          "traceback": [
            "\u001b[0;36m  File \u001b[0;32m\"<ipython-input-1-d7aadf454038>\"\u001b[0;36m, line \u001b[0;32m13\u001b[0m\n\u001b[0;31m    1st St., Faketown AK 86847\u001b[0m\n\u001b[0m    ^\u001b[0m\n\u001b[0;31mSyntaxError\u001b[0m\u001b[0;31m:\u001b[0m invalid decimal literal\n"
          ]
        }
      ]
    },
    {
      "cell_type": "code",
      "source": [
        "import re"
      ],
      "metadata": {
        "id": "FqxasJa8jOMh"
      },
      "execution_count": null,
      "outputs": []
    },
    {
      "cell_type": "code",
      "source": [
        "x = \"\"\"Dave Martin\n",
        "615-555-7164173\n",
        "Main St., Springfield RI 55924\n",
        "davemartin@bogusemail.com\n",
        "\n",
        "Charles Harris\n",
        "800-555-5669969\n",
        "High St., Atlantis VA 34075\n",
        "charlesharris@bogusemail.com\n",
        "\n",
        "Eric Williams\n",
        "560-555-5153806\n",
        "1st St., Faketown AK 86847\n",
        "laurawilliams@bogusemail.com\"\"\"\n",
        "\n",
        "\n"
      ],
      "metadata": {
        "id": "UIwFs42uh6au"
      },
      "execution_count": null,
      "outputs": []
    },
    {
      "cell_type": "code",
      "source": [
        "patter = \"\\d{3}-\\d{3}-\\d{7}\""
      ],
      "metadata": {
        "id": "N2rfz9ssg11h"
      },
      "execution_count": null,
      "outputs": []
    },
    {
      "cell_type": "code",
      "source": [
        "output = print(re.search(patter, x))"
      ],
      "metadata": {
        "colab": {
          "base_uri": "https://localhost:8080/"
        },
        "id": "g0M-BuabiwmX",
        "outputId": "929d7307-19f7-412d-ddf6-1f530243bc48"
      },
      "execution_count": null,
      "outputs": [
        {
          "output_type": "stream",
          "name": "stdout",
          "text": [
            "<re.Match object; span=(12, 27), match='615-555-7164173'>\n"
          ]
        }
      ]
    },
    {
      "cell_type": "code",
      "source": [
        "output = print(re.findall(patter, x))"
      ],
      "metadata": {
        "colab": {
          "base_uri": "https://localhost:8080/"
        },
        "id": "r-P8SpA6i6rQ",
        "outputId": "dd69a437-5e28-41cc-fe7e-848700a0d765"
      },
      "execution_count": null,
      "outputs": [
        {
          "output_type": "stream",
          "name": "stdout",
          "text": [
            "['615-555-7164173', '800-555-5669969', '560-555-5153806']\n"
          ]
        }
      ]
    },
    {
      "cell_type": "code",
      "source": [
        "import re\n",
        "emails = [\n",
        "    \"test@example.com\",\n",
        "    \"invalid-email@com\",\n",
        "    \"another_valid@domain.org\",\n",
        "    \"bad@domain@com\",\n",
        "    \"example@invalid_extension.xyz\",\n",
        "    \"valid.email@subdomain.edu\"\n",
        "    ]\n",
        "def validate_emails(emails):\n",
        "    email_pattern = r'^[a-zA-Z0-9._-]+@[a-zA-Z0-9.-]+\\.(com|org|net|edu|gov)$'      #\"\"\"Validate a list of email addresses and return only the valid ones.\n",
        "    valid_emails = []\n",
        "    for i in emails:\n",
        "        if re.match(email_pattern, i):\n",
        "            valid_emails.append(i)\n",
        "\n",
        "    return valid_emails\n",
        "\n",
        "lst= validate_emails(emails)"
      ],
      "metadata": {
        "id": "NQVHncCDjnBE"
      },
      "execution_count": null,
      "outputs": []
    },
    {
      "cell_type": "code",
      "source": [
        "lst"
      ],
      "metadata": {
        "colab": {
          "base_uri": "https://localhost:8080/"
        },
        "id": "-AZeCnaDVU6j",
        "outputId": "38f0cc58-d42c-4c77-ea1e-cd606f4b8cb7"
      },
      "execution_count": null,
      "outputs": [
        {
          "output_type": "execute_result",
          "data": {
            "text/plain": [
              "['test@example.com', 'another_valid@domain.org', 'valid.email@subdomain.edu']"
            ]
          },
          "metadata": {},
          "execution_count": 2
        }
      ]
    },
    {
      "cell_type": "code",
      "source": [
        "class Student:\n",
        "    def __init__(self, marks1, credit1, marks2, credit2):\n",
        "        # Initialize marks and credits for the subjects\n",
        "        self.marks1 = marks1\n",
        "        self.credit1 = credit1\n",
        "        self.marks2 = marks2\n",
        "        self.credit2 = credit2\n",
        "\n",
        "    def calculate_points(self, marks):\n",
        "        \"\"\"Helper function to calculate points based on marks\"\"\"\n",
        "        if marks >= 90:\n",
        "            return 10\n",
        "        elif 75 <= marks < 90:\n",
        "            return 9\n",
        "        elif 60 <= marks < 75:\n",
        "            return 8\n",
        "        elif 45 <= marks < 60:\n",
        "            return 7\n",
        "        else:\n",
        "            return 0\n",
        "\n",
        "    def gradepointaverage(self):\n",
        "        \"\"\"Calculates the GPA\"\"\"\n",
        "        # Special case: return -1.0 if both credits are 0\n",
        "        if self.credit1 == 0 and self.credit2 == 0:\n",
        "            return -1.0\n",
        "\n",
        "        # Calculate points for each subject\n",
        "        points1 = self.calculate_points(self.marks1)\n",
        "        points2 = self.calculate_points(self.marks2)\n",
        "\n",
        "        # GPA formula\n",
        "        total_credits = self.credit1 + self.credit2\n",
        "        weighted_points = (points1 * self.credit1) + (points2 * self.credit2)\n",
        "\n",
        "        # Calculate GPA rounded to two decimals\n",
        "        gpa = weighted_points / total_credits\n",
        "        return round(gpa, 2)\n",
        "\n",
        "# Example usage:\n",
        "student1 = Student(85, 3, 76, 4)\n",
        "print(student1.gradepointaverage())  # Output GPA based on marks and credits\n",
        "\n"
      ],
      "metadata": {
        "colab": {
          "base_uri": "https://localhost:8080/"
        },
        "id": "4Qdk8XxjVZY9",
        "outputId": "b9fd96d3-8596-42ae-c769-7d1ab65c46c6"
      },
      "execution_count": null,
      "outputs": [
        {
          "output_type": "stream",
          "name": "stdout",
          "text": [
            "9.0\n"
          ]
        }
      ]
    },
    {
      "cell_type": "code",
      "source": [
        "import requests"
      ],
      "metadata": {
        "id": "zcriISq-dnoE"
      },
      "execution_count": null,
      "outputs": []
    },
    {
      "cell_type": "code",
      "source": [
        "base_url = \"https://books.toscrape.com/catalogue/page-1.html\""
      ],
      "metadata": {
        "id": "qmEx69GMSHDd"
      },
      "execution_count": null,
      "outputs": []
    },
    {
      "cell_type": "code",
      "source": [
        "from bs4 import BeautifulSoup\n"
      ],
      "metadata": {
        "id": "rbqJY1GISnov"
      },
      "execution_count": null,
      "outputs": []
    },
    {
      "cell_type": "code",
      "source": [],
      "metadata": {
        "id": "4Ue_9X_VTITm"
      },
      "execution_count": null,
      "outputs": []
    }
  ]
}